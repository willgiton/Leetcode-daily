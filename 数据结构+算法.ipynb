{
  "nbformat": 4,
  "nbformat_minor": 0,
  "metadata": {
    "colab": {
      "name": "数据结构+算法.ipynb",
      "version": "0.3.2",
      "provenance": [],
      "collapsed_sections": [],
      "include_colab_link": true
    },
    "kernelspec": {
      "name": "python3",
      "display_name": "Python 3"
    }
  },
  "cells": [
    {
      "cell_type": "markdown",
      "metadata": {
        "id": "view-in-github",
        "colab_type": "text"
      },
      "source": [
        "<a href=\"https://colab.research.google.com/github/willgiton/Leetcode-daily/blob/master/%E6%95%B0%E6%8D%AE%E7%BB%93%E6%9E%84%2B%E7%AE%97%E6%B3%95.ipynb\" target=\"_parent\"><img src=\"https://colab.research.google.com/assets/colab-badge.svg\" alt=\"Open In Colab\"/></a>"
      ]
    },
    {
      "cell_type": "markdown",
      "metadata": {
        "id": "-j74dQ6MoPxh",
        "colab_type": "text"
      },
      "source": [
        "# 数据结构\n",
        "## 数组\n",
        "## 字符串\n",
        "## 链表\n",
        "## 树\n",
        "## 图\n",
        "## 哈希\n",
        "## 堆栈和队列\n",
        "# 算法和数据操作\n",
        "## 查找\n",
        "## 排序\n",
        "## 递归\n",
        "## 循环\n",
        "## 位运算\n",
        "\n",
        "\n"
      ]
    },
    {
      "cell_type": "markdown",
      "metadata": {
        "id": "mN1kreabmp4H",
        "colab_type": "text"
      },
      "source": [
        "Array_leetcode: Find Pivot Index"
      ]
    },
    {
      "cell_type": "code",
      "metadata": {
        "id": "rtReDn995Kmu",
        "colab_type": "code",
        "outputId": "44ff98d5-0330-4c6b-ea30-ff1571cc0efa",
        "colab": {
          "base_uri": "https://localhost:8080/",
          "height": 34
        }
      },
      "source": [
        "class solution():\n",
        "  def pivotIndex(self,nums):\n",
        "    left, right = 0, sum(nums)\n",
        "    for index, num in enumerate(nums):\n",
        "      right -= num\n",
        "      if left == right:\n",
        "        return index\n",
        "      left += num\n",
        "    return -1\n",
        "a=solution()\n",
        "a.pivotIndex([1, 7, 3, 6, 5, 6])"
      ],
      "execution_count": 0,
      "outputs": [
        {
          "output_type": "execute_result",
          "data": {
            "text/plain": [
              "3"
            ]
          },
          "metadata": {
            "tags": []
          },
          "execution_count": 10
        }
      ]
    },
    {
      "cell_type": "markdown",
      "metadata": {
        "id": "SPgtQs_DrP7h",
        "colab_type": "text"
      },
      "source": [
        "Array_leetcode: Largest Number At Least Twice of Others"
      ]
    },
    {
      "cell_type": "code",
      "metadata": {
        "id": "7nnK2jGM5K9e",
        "colab_type": "code",
        "outputId": "15eddb8d-30a7-43d9-9e81-e3f6977edf6c",
        "colab": {
          "base_uri": "https://localhost:8080/",
          "height": 34
        }
      },
      "source": [
        "class solution():\n",
        "  def dominantIndex(self, nums):\n",
        "    largest_n = -1\n",
        "    second_n = -1\n",
        "    d_index = -1\n",
        "    for index, num in enumerate(nums):\n",
        "      if num >= largest_n:\n",
        "        second_n = largest_n\n",
        "        largest_n = num\n",
        "        d_index = index\n",
        "      elif num > second_n:\n",
        "        second_n = num\n",
        "    if largest_n < 2*second_n:\n",
        "      d_index = -1\n",
        "    return d_index\n",
        "a=solution()\n",
        "a.dominantIndex([1,3,5,11])"
      ],
      "execution_count": 0,
      "outputs": [
        {
          "output_type": "execute_result",
          "data": {
            "text/plain": [
              "3"
            ]
          },
          "metadata": {
            "tags": []
          },
          "execution_count": 19
        }
      ]
    },
    {
      "cell_type": "markdown",
      "metadata": {
        "id": "5cBGxubnwF2J",
        "colab_type": "text"
      },
      "source": [
        "Array_leetcode: Plus One"
      ]
    },
    {
      "cell_type": "code",
      "metadata": {
        "id": "-FOVFLQttwKP",
        "colab_type": "code",
        "outputId": "8e92697b-892f-45d4-c782-1a16b5053334",
        "colab": {
          "base_uri": "https://localhost:8080/",
          "height": 34
        }
      },
      "source": [
        "class solution():\n",
        "  def plus_one(self, nums):\n",
        "    nums = int(\"\".join(map(str, nums))) + 1\n",
        "    return [int(i) for i in str(nums)]\n",
        "a=solution()\n",
        "a.plus_one([99])"
      ],
      "execution_count": 0,
      "outputs": [
        {
          "output_type": "execute_result",
          "data": {
            "text/plain": [
              "[1, 0, 0]"
            ]
          },
          "metadata": {
            "tags": []
          },
          "execution_count": 18
        }
      ]
    },
    {
      "cell_type": "markdown",
      "metadata": {
        "id": "TIFY1X7kRa7A",
        "colab_type": "text"
      },
      "source": [
        "Array_leetcode : Diagonal Traverse"
      ]
    },
    {
      "cell_type": "code",
      "metadata": {
        "id": "JtS5MLlYxD1H",
        "colab_type": "code",
        "colab": {
          "base_uri": "https://localhost:8080/",
          "height": 34
        },
        "outputId": "401ab098-bbe2-40dc-a998-45e43cd46c0b"
      },
      "source": [
        "import pdb\n",
        "#pdb.set_trace()\n",
        "class solution():\n",
        "  def diagonal_order(self, matrix):\n",
        "    m, n = len(matrix), len(matrix[0])\n",
        "    return [matrix[i][d-i]\n",
        "            for d in range(m+n-1)\n",
        "            for i in range(max(0, d-n+1), min(d+1, m))[::d%2*2-1]]\n",
        "diagonal = solution()\n",
        "diagonal.diagonal_order([[1,2,3],[4,5,6],[7,8,9]])\n"
      ],
      "execution_count": 31,
      "outputs": [
        {
          "output_type": "execute_result",
          "data": {
            "text/plain": [
              "[1, 2, 4, 7, 5, 3, 6, 8, 9]"
            ]
          },
          "metadata": {
            "tags": []
          },
          "execution_count": 31
        }
      ]
    },
    {
      "cell_type": "markdown",
      "metadata": {
        "id": "tHIQnboPtilY",
        "colab_type": "text"
      },
      "source": [
        "Array_leetcode: Spiral Matrix"
      ]
    },
    {
      "cell_type": "code",
      "metadata": {
        "id": "yLvAzZ-8g3gS",
        "colab_type": "code",
        "colab": {
          "base_uri": "https://localhost:8080/",
          "height": 34
        },
        "outputId": "0a243c67-f180-4f62-ad77-c513b481c315"
      },
      "source": [
        "import pdb\n",
        "#pdb.set_trace()\n",
        "def spiralOrder(matrix):\n",
        "  return matrix and [*matrix.pop(0)] + spiralOrder([*zip(*matrix)][::-1])\n",
        "spiralOrder([[1,2,4],\n",
        "             [5,6,7],\n",
        "             [8,0,2]])"
      ],
      "execution_count": 51,
      "outputs": [
        {
          "output_type": "execute_result",
          "data": {
            "text/plain": [
              "[1, 2, 4, 7, 2, 0, 8, 5, 6]"
            ]
          },
          "metadata": {
            "tags": []
          },
          "execution_count": 51
        }
      ]
    },
    {
      "cell_type": "code",
      "metadata": {
        "id": "Agq1PZr_uU6G",
        "colab_type": "code",
        "colab": {
          "base_uri": "https://localhost:8080/",
          "height": 136
        },
        "outputId": "36425a4a-5873-4cf9-9adb-a74056feec72"
      },
      "source": [
        "matrix = [[1,2,4],\n",
        "             [5,6,7],\n",
        "             [8,0,2]]\n",
        "print(matrix and matrix.pop(0))\n",
        "print(matrix)\n",
        "print(type(matrix))\n",
        "#print(list(*matrix))\n",
        "print(*matrix)\n",
        "print([*zip(matrix)])\n",
        "print([*zip(*matrix)][::-1])\n",
        "list(range(1,0))\n",
        "list(range(1,1))"
      ],
      "execution_count": 74,
      "outputs": [
        {
          "output_type": "stream",
          "text": [
            "[1, 2, 4]\n",
            "[[5, 6, 7], [8, 0, 2]]\n",
            "<class 'list'>\n",
            "[5, 6, 7] [8, 0, 2]\n",
            "[([5, 6, 7],), ([8, 0, 2],)]\n",
            "[(7, 2), (6, 0), (5, 8)]\n"
          ],
          "name": "stdout"
        },
        {
          "output_type": "execute_result",
          "data": {
            "text/plain": [
              "[]"
            ]
          },
          "metadata": {
            "tags": []
          },
          "execution_count": 74
        }
      ]
    },
    {
      "cell_type": "markdown",
      "metadata": {
        "id": "Qc4cNMZd69IC",
        "colab_type": "text"
      },
      "source": [
        "Array_leetcode: Pascal's Triangle"
      ]
    },
    {
      "cell_type": "code",
      "metadata": {
        "id": "6HyArZIRwk2t",
        "colab_type": "code",
        "colab": {
          "base_uri": "https://localhost:8080/",
          "height": 34
        },
        "outputId": "1dca2000-149a-4e42-97db-3c33c9d1aaea"
      },
      "source": [
        "def generate(numRows):\n",
        "    pascal = [[1]*(i+1) for i in range(numRows)]\n",
        "    for i in range(numRows):\n",
        "        for j in range(1, i):\n",
        "            pascal[i][j] = pascal[i-1][j-1] + pascal[i-1][j]\n",
        "    return pascal\n",
        "generate(6)"
      ],
      "execution_count": 79,
      "outputs": [
        {
          "output_type": "execute_result",
          "data": {
            "text/plain": [
              "[[1], [1, 1], [1, 1, 1], [1, 1, 1, 1], [1, 1, 1, 1, 1], [1, 1, 1, 1, 1, 1]]"
            ]
          },
          "metadata": {
            "tags": []
          },
          "execution_count": 79
        }
      ]
    },
    {
      "cell_type": "code",
      "metadata": {
        "id": "t7g6q4qA8uag",
        "colab_type": "code",
        "colab": {
          "base_uri": "https://localhost:8080/",
          "height": 34
        },
        "outputId": "19821005-abc5-4ba8-9b28-ca1b3aa1377e"
      },
      "source": [
        "pascal = [[1]*(i+1) for i in range(5)]\n",
        "pascal\n"
      ],
      "execution_count": 76,
      "outputs": [
        {
          "output_type": "execute_result",
          "data": {
            "text/plain": [
              "[[1], [1, 1], [1, 1, 1], [1, 1, 1, 1], [1, 1, 1, 1, 1]]"
            ]
          },
          "metadata": {
            "tags": []
          },
          "execution_count": 76
        }
      ]
    },
    {
      "cell_type": "code",
      "metadata": {
        "id": "_pCz6SXz825g",
        "colab_type": "code",
        "colab": {}
      },
      "source": [
        ""
      ],
      "execution_count": 0,
      "outputs": []
    }
  ]
}