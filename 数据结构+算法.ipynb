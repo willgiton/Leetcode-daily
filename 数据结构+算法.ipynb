{
  "nbformat": 4,
  "nbformat_minor": 0,
  "metadata": {
    "colab": {
      "name": "数据结构+算法.ipynb",
      "version": "0.3.2",
      "provenance": [],
      "collapsed_sections": [],
      "include_colab_link": true
    },
    "kernelspec": {
      "name": "python3",
      "display_name": "Python 3"
    }
  },
  "cells": [
    {
      "cell_type": "markdown",
      "metadata": {
        "id": "view-in-github",
        "colab_type": "text"
      },
      "source": [
        "<a href=\"https://colab.research.google.com/github/willgiton/Leetcode-daily/blob/master/%E6%95%B0%E6%8D%AE%E7%BB%93%E6%9E%84%2B%E7%AE%97%E6%B3%95.ipynb\" target=\"_parent\"><img src=\"https://colab.research.google.com/assets/colab-badge.svg\" alt=\"Open In Colab\"/></a>"
      ]
    },
    {
      "cell_type": "markdown",
      "metadata": {
        "id": "-j74dQ6MoPxh",
        "colab_type": "text"
      },
      "source": [
        "# 数据结构\n",
        "## 数组\n",
        "## 字符串\n",
        "## 链表\n",
        "## 树\n",
        "## 图\n",
        "## 哈希\n",
        "## 堆栈和队列\n",
        "# 算法和数据操作\n",
        "## 查找\n",
        "## 排序\n",
        "## 递归\n",
        "## 循环\n",
        "## 位运算\n",
        "\n",
        "\n"
      ]
    },
    {
      "cell_type": "markdown",
      "metadata": {
        "id": "mN1kreabmp4H",
        "colab_type": "text"
      },
      "source": [
        "Array_leetcode: Find Pivot Index"
      ]
    },
    {
      "cell_type": "code",
      "metadata": {
        "id": "rtReDn995Kmu",
        "colab_type": "code",
        "colab": {
          "base_uri": "https://localhost:8080/",
          "height": 34
        },
        "outputId": "44ff98d5-0330-4c6b-ea30-ff1571cc0efa"
      },
      "source": [
        "class solution():\n",
        "  def pivotIndex(self,nums):\n",
        "    left, right = 0, sum(nums)\n",
        "    for index, num in enumerate(nums):\n",
        "      right -= num\n",
        "      if left == right:\n",
        "        return index\n",
        "      left += num\n",
        "    return -1\n",
        "a=solution()\n",
        "a.pivotIndex([1, 7, 3, 6, 5, 6])"
      ],
      "execution_count": 10,
      "outputs": [
        {
          "output_type": "execute_result",
          "data": {
            "text/plain": [
              "3"
            ]
          },
          "metadata": {
            "tags": []
          },
          "execution_count": 10
        }
      ]
    },
    {
      "cell_type": "markdown",
      "metadata": {
        "id": "SPgtQs_DrP7h",
        "colab_type": "text"
      },
      "source": [
        "Array_leetcode: Largest Number At Least Twice of Others"
      ]
    },
    {
      "cell_type": "code",
      "metadata": {
        "id": "7nnK2jGM5K9e",
        "colab_type": "code",
        "colab": {
          "base_uri": "https://localhost:8080/",
          "height": 134
        },
        "outputId": "045aedd4-1c46-4bdf-adb9-29f01072ffa0"
      },
      "source": [
        "class solution():\n",
        "  def dominantIndex(self, nums):\n",
        "    largest_n = -1\n",
        "    second_n = -1\n",
        "    d_index = -1\n",
        "    for index, num in enumerate(nums):\n",
        "      if num >= largest_n:\n",
        "        second_n = largest_n\n",
        "        largest_n = num\n",
        "        d_index = index\n",
        "      elif num > second_n:\n",
        "        second_n = num\n",
        "    if largest_n < 2*second_n:\n",
        "      d_index = -1\n",
        "    return d_index\n",
        "a=solution()\n",
        "a.dominantIndex([1,3,5,11])"
      ],
      "execution_count": 11,
      "outputs": [
        {
          "output_type": "error",
          "ename": "IndentationError",
          "evalue": "ignored",
          "traceback": [
            "\u001b[0;36m  File \u001b[0;32m\"<ipython-input-11-77671b3993c1>\"\u001b[0;36m, line \u001b[0;32m2\u001b[0m\n\u001b[0;31m    def dominantIndex(self, nums):\u001b[0m\n\u001b[0m    ^\u001b[0m\n\u001b[0;31mIndentationError\u001b[0m\u001b[0;31m:\u001b[0m unexpected indent\n"
          ]
        }
      ]
    },
    {
      "cell_type": "markdown",
      "metadata": {
        "id": "5cBGxubnwF2J",
        "colab_type": "text"
      },
      "source": [
        "Array_leetcode: Plus One"
      ]
    },
    {
      "cell_type": "code",
      "metadata": {
        "id": "-FOVFLQttwKP",
        "colab_type": "code",
        "colab": {
          "base_uri": "https://localhost:8080/",
          "height": 34
        },
        "outputId": "8e92697b-892f-45d4-c782-1a16b5053334"
      },
      "source": [
        "class solution():\n",
        "  def plus_one(self, nums):\n",
        "    nums = int(\"\".join(map(str, nums))) + 1\n",
        "    return [int(i) for i in str(nums)]\n",
        "a=solution()\n",
        "a.plus_one([99])"
      ],
      "execution_count": 18,
      "outputs": [
        {
          "output_type": "execute_result",
          "data": {
            "text/plain": [
              "[1, 0, 0]"
            ]
          },
          "metadata": {
            "tags": []
          },
          "execution_count": 18
        }
      ]
    },
    {
      "cell_type": "code",
      "metadata": {
        "id": "JtS5MLlYxD1H",
        "colab_type": "code",
        "colab": {}
      },
      "source": [
        ""
      ],
      "execution_count": 0,
      "outputs": []
    }
  ]
}