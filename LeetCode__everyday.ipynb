{
  "nbformat": 4,
  "nbformat_minor": 0,
  "metadata": {
    "colab": {
      "name": "LeetCode__everyday.ipynb",
      "version": "0.3.2",
      "provenance": [],
      "collapsed_sections": [],
      "include_colab_link": true
    },
    "kernelspec": {
      "name": "python3",
      "display_name": "Python 3"
    }
  },
  "cells": [
    {
      "cell_type": "markdown",
      "metadata": {
        "id": "view-in-github",
        "colab_type": "text"
      },
      "source": [
        "<a href=\"https://colab.research.google.com/github/willgiton/Leetcode-daily/blob/master/LeetCode__everyday.ipynb\" target=\"_parent\"><img src=\"https://colab.research.google.com/assets/colab-badge.svg\" alt=\"Open In Colab\"/></a>"
      ]
    },
    {
      "cell_type": "code",
      "metadata": {
        "id": "bsShdhWxAamw",
        "colab_type": "code",
        "outputId": "a0188e80-ecdd-4f35-e2c6-334f3f490b5a",
        "colab": {
          "base_uri": "https://localhost:8080/",
          "height": 34
        }
      },
      "source": [
        "class Solution(object):\n",
        "    def kClosest(self, points, K):\n",
        "        \"\"\"\n",
        "        :type points: List[List[int]]\n",
        "        :type K: int\n",
        "        :rtype: List[List[int]]\n",
        "        \"\"\"\n",
        "        points.sort(key = lambda x : x[0]**2 + x[1]**2)\n",
        "        return points[0:K]\n",
        "a = Solution()\n",
        "a.kClosest([[1,3],[-2,2]],3)"
      ],
      "execution_count": 0,
      "outputs": [
        {
          "output_type": "execute_result",
          "data": {
            "text/plain": [
              "[[-2, 2], [1, 3]]"
            ]
          },
          "metadata": {
            "tags": []
          },
          "execution_count": 19
        }
      ]
    },
    {
      "cell_type": "markdown",
      "metadata": {
        "id": "qZFjHP9ELJxQ",
        "colab_type": "text"
      },
      "source": [
        "[K Closest points to Origin](https://leetcode.com/contest/weekly-contest-119/problems/k-closest-points-to-origin/)\n",
        "\n",
        "\n",
        "**lambda** argument: manipulate(argument)\n",
        "\n",
        "**TypeError**: list indices must be integers or slices, not tuple   -------**[ : ]**\n",
        "\n",
        "\n",
        "---\n",
        "\n",
        "2019-01-15 23:51"
      ]
    },
    {
      "cell_type": "code",
      "metadata": {
        "id": "sYiz-cOSDtzD",
        "colab_type": "code",
        "colab": {}
      },
      "source": [
        ""
      ],
      "execution_count": 0,
      "outputs": []
    }
  ]
}