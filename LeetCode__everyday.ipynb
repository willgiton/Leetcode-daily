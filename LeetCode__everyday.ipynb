{
  "nbformat": 4,
  "nbformat_minor": 0,
  "metadata": {
    "colab": {
      "name": "LeetCode__everyday.ipynb",
      "provenance": [],
      "collapsed_sections": [],
      "include_colab_link": true
    },
    "kernelspec": {
      "name": "python3",
      "display_name": "Python 3"
    }
  },
  "cells": [
    {
      "cell_type": "markdown",
      "metadata": {
        "id": "view-in-github",
        "colab_type": "text"
      },
      "source": [
        "<a href=\"https://colab.research.google.com/github/willgiton/Leetcode-daily/blob/master/LeetCode__everyday.ipynb\" target=\"_parent\"><img src=\"https://colab.research.google.com/assets/colab-badge.svg\" alt=\"Open In Colab\"/></a>"
      ]
    },
    {
      "cell_type": "code",
      "metadata": {
        "id": "bsShdhWxAamw",
        "colab_type": "code",
        "outputId": "a0188e80-ecdd-4f35-e2c6-334f3f490b5a",
        "colab": {
          "base_uri": "https://localhost:8080/",
          "height": 34
        }
      },
      "source": [
        "class Solution(object):\n",
        "    def kClosest(self, points, K):\n",
        "        \"\"\"\n",
        "        :type points: List[List[int]]\n",
        "        :type K: int\n",
        "        :rtype: List[List[int]]\n",
        "        \"\"\"\n",
        "        points.sort(key = lambda x : x[0]**2 + x[1]**2)\n",
        "        return points[0:K]\n",
        "a = Solution()\n",
        "a.kClosest([[1,3],[-2,2]],3)"
      ],
      "execution_count": 0,
      "outputs": [
        {
          "output_type": "execute_result",
          "data": {
            "text/plain": [
              "[[-2, 2], [1, 3]]"
            ]
          },
          "metadata": {
            "tags": []
          },
          "execution_count": 19
        }
      ]
    },
    {
      "cell_type": "markdown",
      "metadata": {
        "id": "qZFjHP9ELJxQ",
        "colab_type": "text"
      },
      "source": [
        "[K Closest points to Origin](https://leetcode.com/contest/weekly-contest-119/problems/k-closest-points-to-origin/)\n",
        "\n",
        "\n",
        "**lambda** argument: manipulate(argument)\n",
        "\n",
        "**TypeError**: list indices must be integers or slices, not tuple   -------**[ : ]**\n",
        "\n",
        "\n",
        "---\n",
        "\n",
        "2019-01-15 23:51"
      ]
    },
    {
      "cell_type": "code",
      "metadata": {
        "id": "sYiz-cOSDtzD",
        "colab_type": "code",
        "colab": {
          "base_uri": "https://localhost:8080/",
          "height": 136
        },
        "outputId": "47d77cec-97b5-40ef-fb5b-583245b600ae"
      },
      "source": [
        "\n",
        "SIZE = 7\n",
        "array = [[0] * SIZE]\n",
        "for i in range(SIZE - 1):\n",
        "    array += [[0] * SIZE]\n",
        "orient = 0\n",
        "j = 0\n",
        "k = 0\n",
        "for i in range(1, SIZE * SIZE + 1) :\n",
        "    array[j][k] = i\n",
        "    if j + k == SIZE - 1 : # j>k，位于左下角\n",
        "        if j > k :\n",
        "            orient = 1\n",
        "        else :\n",
        "            orinet = 2\n",
        "    elif (k == j) and (k >= SIZE / 2) :\n",
        "        orient = 3\n",
        "    elif (j == k - 1) and (k <= SIZE / 2) :\n",
        "        orient = 0\n",
        "    if orient == 0 :\n",
        "        j += 1 \n",
        "    elif orient == 1:\n",
        "        k += 1\n",
        "    elif orient == 2:\n",
        "        k -= 1\n",
        "    elif orient == 3:\n",
        "        j -= 1\n",
        "for i in range(SIZE) :\n",
        "    for j in range(SIZE) :\n",
        "        print('%02d ' % array[i][j], end = \"\")\n",
        "    print(\"\")"
      ],
      "execution_count": 34,
      "outputs": [
        {
          "output_type": "stream",
          "text": [
            "01 24 23 22 21 20 19 \n",
            "02 25 40 39 38 37 18 \n",
            "03 26 41 48 47 36 17 \n",
            "04 27 42 49 46 35 16 \n",
            "05 28 43 44 45 34 15 \n",
            "06 29 30 31 32 33 14 \n",
            "07 08 09 10 11 12 13 \n"
          ],
          "name": "stdout"
        }
      ]
    },
    {
      "cell_type": "code",
      "metadata": {
        "id": "PiIB-mj3fpGG",
        "colab_type": "code",
        "colab": {
          "base_uri": "https://localhost:8080/",
          "height": 136
        },
        "outputId": "f30296fb-bab3-4cbd-97a8-70d56ac1a981"
      },
      "source": [
        "\n",
        "SIZE = 7\n",
        "array = [[0] * SIZE]\n",
        "for i in range(SIZE - 1):\n",
        "    array += [[0] * SIZE]\n",
        "orient = 0\n",
        "j = 0\n",
        "k = 0\n",
        "for i in range(1, SIZE * SIZE + 1) :\n",
        "    array[j][k] = i\n",
        "    if j + k == SIZE - 1 : # j>k，位于左下角\n",
        "        if j > k :\n",
        "            orient = 1 # 位于右上角\n",
        "        else :\n",
        "            orient = 2\n",
        "    elif (k == j) and (k >= SIZE / 2) :\n",
        "        orient = 3\n",
        "    elif (j == k - 1) and (k <= SIZE / 2) :\n",
        "        orient = 0\n",
        "    if orient == 0 :\n",
        "        j += 1\n",
        "    elif orient == 1:\n",
        "        k += 1\n",
        "    elif orient == 2:\n",
        "        k -= 1\n",
        "    elif orient == 3:\n",
        "        j -= 1\n",
        "for i in range(SIZE) :\n",
        "    for j in range(SIZE) :\n",
        "        print('%02d ' % array[i][j], end = \"\")\n",
        "    print(\"\")"
      ],
      "execution_count": 20,
      "outputs": [
        {
          "output_type": "stream",
          "text": [
            "01 24 23 22 21 20 19 \n",
            "02 25 40 39 38 37 18 \n",
            "03 26 41 48 47 36 17 \n",
            "04 27 42 49 46 35 16 \n",
            "05 28 43 44 45 34 15 \n",
            "06 29 30 31 32 33 14 \n",
            "07 08 09 10 11 12 13 \n"
          ],
          "name": "stdout"
        }
      ]
    }
  ]
}