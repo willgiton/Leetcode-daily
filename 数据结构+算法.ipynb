{
  "nbformat": 4,
  "nbformat_minor": 0,
  "metadata": {
    "colab": {
      "name": "数据结构+算法.ipynb",
      "version": "0.3.2",
      "provenance": [],
      "collapsed_sections": [],
      "include_colab_link": true
    },
    "kernelspec": {
      "name": "python3",
      "display_name": "Python 3"
    }
  },
  "cells": [
    {
      "cell_type": "markdown",
      "metadata": {
        "id": "view-in-github",
        "colab_type": "text"
      },
      "source": [
        "<a href=\"https://colab.research.google.com/github/willgiton/Leetcode-daily/blob/master/%E6%95%B0%E6%8D%AE%E7%BB%93%E6%9E%84%2B%E7%AE%97%E6%B3%95.ipynb\" target=\"_parent\"><img src=\"https://colab.research.google.com/assets/colab-badge.svg\" alt=\"Open In Colab\"/></a>"
      ]
    },
    {
      "cell_type": "markdown",
      "metadata": {
        "id": "-j74dQ6MoPxh",
        "colab_type": "text"
      },
      "source": [
        "# 数据结构\n",
        "## 数组\n",
        "## 字符串\n",
        "## 链表\n",
        "## 树\n",
        "## 图\n",
        "## 哈希\n",
        "## 堆栈和队列\n",
        "# 算法和数据操作\n",
        "## 查找\n",
        "## 排序\n",
        "## 递归\n",
        "## 循环\n",
        "## 位运算\n",
        "\n",
        "\n"
      ]
    },
    {
      "cell_type": "code",
      "metadata": {
        "id": "rtReDn995Kmu",
        "colab_type": "code",
        "colab": {
          "base_uri": "https://localhost:8080/",
          "height": 34
        },
        "outputId": "d986538f-9136-4b51-e97e-94faa1cabce5"
      },
      "source": [
        "class solution():\n",
        "  def pivotIndex(self,nums):\n",
        "    left, right = 0, sum(nums)\n",
        "    for index, num in enumerate(nums):\n",
        "      right -= num\n",
        "      if left == right:\n",
        "        return index\n",
        "      left += num\n",
        "    return -1\n",
        "a=solution()\n",
        "a.pivotIndex([1, 7, 3, 6, 5, 6])"
      ],
      "execution_count": 7,
      "outputs": [
        {
          "output_type": "execute_result",
          "data": {
            "text/plain": [
              "3"
            ]
          },
          "metadata": {
            "tags": []
          },
          "execution_count": 7
        }
      ]
    },
    {
      "cell_type": "code",
      "metadata": {
        "id": "XndzBI_Vo4vg",
        "colab_type": "code",
        "colab": {}
      },
      "source": [
        ""
      ],
      "execution_count": 0,
      "outputs": []
    },
    {
      "cell_type": "markdown",
      "metadata": {
        "id": "mN1kreabmp4H",
        "colab_type": "text"
      },
      "source": [
        "Find Pivot Index"
      ]
    },
    {
      "cell_type": "code",
      "metadata": {
        "id": "7nnK2jGM5K9e",
        "colab_type": "code",
        "colab": {}
      },
      "source": [
        ""
      ],
      "execution_count": 0,
      "outputs": []
    }
  ]
}