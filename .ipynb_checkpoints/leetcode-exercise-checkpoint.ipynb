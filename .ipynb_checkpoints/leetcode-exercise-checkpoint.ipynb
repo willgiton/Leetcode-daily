{
 "cells": [
  {
   "cell_type": "markdown",
   "metadata": {},
   "source": [
    "It's daily exercise of code in Leetcode\n",
    "https://leetcode.com/"
   ]
  },
  {
   "cell_type": "code",
   "execution_count": 3,
   "metadata": {},
   "outputs": [],
   "source": [
    "#1 961. N-Repeated Element in Size 2N Array\n",
    "#     In a array A of size 2N, there are N+1 unique elements, and exactly one of these elements is repeated N times.\n",
    "#     Return the element repeated N times.\n",
    "\n",
    "class Solution:\n",
    "    def repeatedNTimes(self, A):\n",
    "        \"\"\"\n",
    "        :type A: List[int]\n",
    "        :rtype: int\n",
    "        \"\"\"\n",
    "        A.sort()\n",
    "        for i in range(len(A)):\n",
    "            if A[i] == A[(i+1)]:\n",
    "                return A[i]"
   ]
  },
  {
   "cell_type": "code",
   "execution_count": 9,
   "metadata": {},
   "outputs": [
    {
     "data": {
      "text/plain": [
       "inf"
      ]
     },
     "execution_count": 9,
     "metadata": {},
     "output_type": "execute_result"
    }
   ],
   "source": [
    "i=float('Inf')\n",
    "i-33\n",
    "enumerate()"
   ]
  },
  {
   "cell_type": "code",
   "execution_count": 10,
   "metadata": {},
   "outputs": [],
   "source": [
    "# 962. Maximum Width Ramp\n",
    "# Given an array A of integers, a ramp is a tuple (i, j) for which i < j and A[i] <= A[j].  The width of such a ramp is j - i.\n",
    "# Find the maximum width of a ramp in A.  If one doesn't exist, return 0.\n",
    "class Solution:\n",
    "    def maxWidthRamp(self, A):\n",
    "        \"\"\"\n",
    "        :type A: List[int]\n",
    "        :rtype: int\n",
    "        \"\"\"\n",
    "        ans = 0\n",
    "        m = float('inf')\n",
    "        for i in sorted(range(len(A)), key = A.__getitem__):\n",
    "            ans = max(ans, i - m)\n",
    "            m = min(m, i)\n",
    "        return ans"
   ]
  },
  {
   "cell_type": "markdown",
   "metadata": {},
   "source": [
    "957. Prison Cells After N Days\n",
    "https://leetcode.com/problems/prison-cells-after-n-days/"
   ]
  },
  {
   "cell_type": "code",
   "execution_count": 23,
   "metadata": {},
   "outputs": [
    {
     "name": "stdout",
     "output_type": "stream",
     "text": [
      "[0, 1, 1, 0, 0, 0, 0, 0]\n",
      "[0, 0, 0, 0, 1, 1, 1, 0]\n",
      "[0, 1, 1, 0, 0, 1, 0, 0]\n",
      "[0, 0, 0, 0, 0, 1, 0, 0]\n",
      "[0, 1, 1, 1, 0, 1, 0, 0]\n",
      "[0, 0, 1, 0, 1, 1, 0, 0]\n",
      "[0, 0, 1, 1, 0, 0, 0, 0]\n"
     ]
    },
    {
     "data": {
      "text/plain": [
       "[0, 0, 1, 1, 0, 0, 0, 0]"
      ]
     },
     "execution_count": 23,
     "metadata": {},
     "output_type": "execute_result"
    }
   ],
   "source": [
    "# class Solution:\n",
    "#     def prisonAfterNDays(cells, N):\n",
    "#         \"\"\"\n",
    "#         :type cells: List[int]\n",
    "#         :type N: int\n",
    "#         :rtype: List[int]\n",
    "#         \"\"\"\n",
    "        \n",
    "#         for day in range(0,N):\n",
    "#             cells_c = cells[:]\n",
    "#             for i in range(0, len(cells)):\n",
    "#                 if i == 0 or i == len(cells)-1:\n",
    "#                     cells_c[i] = 0\n",
    "#                 elif cells[i-1]== cells[i+1]:\n",
    "#                     cells_c[i] = 1\n",
    "#                 else:\n",
    "#                     cells_c[i] =0\n",
    "#             cells = cells_c[:]\n",
    "#             print(cells)\n",
    "#         return cells\n",
    "# Solution.prisonAfterNDays([0,1,0,1,1,0,0,1],7)\n",
    "\n",
    "class Solution(object):\n",
    "    def prisonAfterNDays(self, cells, N):\n",
    "        def nextday(cells):\n",
    "            return [int(i > 0 and i < 7 and cells[i-1] == cells[i+1])\n",
    "                    for i in xrange(8)]\n",
    "\n",
    "        seen = {}\n",
    "        while N > 0:\n",
    "            c = tuple(cells)\n",
    "            if c in seen:\n",
    "                N %= seen[c] - N\n",
    "            seen[c] = N\n",
    "\n",
    "            if N >= 1:\n",
    "                N -= 1\n",
    "                cells = nextday(cells)\n",
    "\n",
    "        return cells\n"
   ]
  },
  {
   "cell_type": "code",
   "execution_count": 26,
   "metadata": {},
   "outputs": [
    {
     "data": {
      "text/plain": [
       "1"
      ]
     },
     "execution_count": 26,
     "metadata": {},
     "output_type": "execute_result"
    }
   ],
   "source": [
    "i = 3^2\n",
    "i"
   ]
  },
  {
   "cell_type": "code",
   "execution_count": 35,
   "metadata": {},
   "outputs": [
    {
     "data": {
      "text/plain": [
       "4"
      ]
     },
     "execution_count": 35,
     "metadata": {},
     "output_type": "execute_result"
    }
   ],
   "source": [
    "2004%100\n"
   ]
  },
  {
   "cell_type": "code",
   "execution_count": 43,
   "metadata": {},
   "outputs": [
    {
     "data": {
      "text/plain": [
       "True"
      ]
     },
     "execution_count": 43,
     "metadata": {},
     "output_type": "execute_result"
    }
   ],
   "source": [
    "def is_leap(year):\n",
    "    leap = False\n",
    "    if year%4 == 0:\n",
    "        if year%100 == 0:\n",
    "            if year%400 == 0:\n",
    "                leap = True\n",
    "        else:\n",
    "            leap = True\n",
    "    return leap\n",
    "is_leap(2004)"
   ]
  },
  {
   "cell_type": "code",
   "execution_count": 42,
   "metadata": {},
   "outputs": [
    {
     "data": {
      "text/plain": [
       "False"
      ]
     },
     "execution_count": 42,
     "metadata": {},
     "output_type": "execute_result"
    }
   ],
   "source": [
    "def is_leap(year):\n",
    "    leap = False\n",
    "    if year%4 == 0:\n",
    "        if year%100 == 0:\n",
    "            if year%400 == 0:\n",
    "                leap = True\n",
    "        else:\n",
    "            leap == True\n",
    "    return leap\n",
    "is_leap(2004)"
   ]
  },
  {
   "cell_type": "code",
   "execution_count": 44,
   "metadata": {},
   "outputs": [
    {
     "ename": "SyntaxError",
     "evalue": "can't use starred expression here (<ipython-input-44-05e670d5629c>, line 1)",
     "output_type": "error",
     "traceback": [
      "\u001b[0;36m  File \u001b[0;32m\"<ipython-input-44-05e670d5629c>\"\u001b[0;36m, line \u001b[0;32m1\u001b[0m\n\u001b[0;31m    *[]\u001b[0m\n\u001b[0m       ^\u001b[0m\n\u001b[0;31mSyntaxError\u001b[0m\u001b[0;31m:\u001b[0m can't use starred expression here\n"
     ]
    }
   ],
   "source": [
    "*[]"
   ]
  },
  {
   "cell_type": "code",
   "execution_count": 54,
   "metadata": {},
   "outputs": [
    {
     "data": {
      "text/plain": [
       "[-10, 0, 10]"
      ]
     },
     "execution_count": 54,
     "metadata": {},
     "output_type": "execute_result"
    }
   ],
   "source": [
    "a = [-10,0, 10]\n",
    "b = sorted(list(set(a)))\n",
    "b"
   ]
  },
  {
   "cell_type": "code",
   "execution_count": 62,
   "metadata": {},
   "outputs": [
    {
     "name": "stdout",
     "output_type": "stream",
     "text": [
      "2 Harsh 25 26.5 28 Anurag 26 28 30 Harsh\n"
     ]
    },
    {
     "data": {
      "text/plain": [
       "'2 Harsh 25 26.5 28 Anurag 26 28 30 Harsh'"
      ]
     },
     "execution_count": 62,
     "metadata": {},
     "output_type": "execute_result"
    }
   ],
   "source": [
    "a=input()\n",
    "a"
   ]
  },
  {
   "cell_type": "code",
   "execution_count": 66,
   "metadata": {},
   "outputs": [
    {
     "ename": "SyntaxError",
     "evalue": "invalid syntax (<ipython-input-66-ae2f3323c500>, line 1)",
     "output_type": "error",
     "traceback": [
      "\u001b[0;36m  File \u001b[0;32m\"<ipython-input-66-ae2f3323c500>\"\u001b[0;36m, line \u001b[0;32m1\u001b[0m\n\u001b[0;31m    b, *c= _.split() for _ in a\u001b[0m\n\u001b[0m                       ^\u001b[0m\n\u001b[0;31mSyntaxError\u001b[0m\u001b[0;31m:\u001b[0m invalid syntax\n"
     ]
    }
   ],
   "source": [
    "b, *c= _.split() for _ in a\n",
    "print(b, c)"
   ]
  },
  {
   "cell_type": "code",
   "execution_count": null,
   "metadata": {},
   "outputs": [],
   "source": [
    "# 963. Minimum Area Rectangle II\n",
    "# https://leetcode.com/contest/weekly-contest-116/problems/minimum-area-rectangle-ii/\n",
    "class Solution:\n",
    "    def minAreaFreeRect(self, points):\n",
    "        \"\"\"\n",
    "        :type points: List[List[int]]\n",
    "        :rtype: float\n",
    "        \"\"\"\n",
    "        rectangle = []"
   ]
  }
 ],
 "metadata": {
  "kernelspec": {
   "display_name": "Python 3",
   "language": "python",
   "name": "python3"
  },
  "language_info": {
   "codemirror_mode": {
    "name": "ipython",
    "version": 3
   },
   "file_extension": ".py",
   "mimetype": "text/x-python",
   "name": "python",
   "nbconvert_exporter": "python",
   "pygments_lexer": "ipython3",
   "version": "3.6.5"
  }
 },
 "nbformat": 4,
 "nbformat_minor": 2
}
