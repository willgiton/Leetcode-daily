{
  "nbformat": 4,
  "nbformat_minor": 0,
  "metadata": {
    "colab": {
      "name": "LeetCode__everyday.ipynb",
      "provenance": [],
      "collapsed_sections": [],
      "include_colab_link": true
    },
    "kernelspec": {
      "name": "python3",
      "display_name": "Python 3"
    }
  },
  "cells": [
    {
      "cell_type": "markdown",
      "metadata": {
        "id": "view-in-github",
        "colab_type": "text"
      },
      "source": [
        "<a href=\"https://colab.research.google.com/github/willgiton/Leetcode-daily/blob/master/LeetCode__everyday.ipynb\" target=\"_parent\"><img src=\"https://colab.research.google.com/assets/colab-badge.svg\" alt=\"Open In Colab\"/></a>"
      ]
    },
    {
      "cell_type": "code",
      "metadata": {
        "id": "bsShdhWxAamw",
        "colab_type": "code",
        "outputId": "a0188e80-ecdd-4f35-e2c6-334f3f490b5a",
        "colab": {
          "base_uri": "https://localhost:8080/",
          "height": 34
        }
      },
      "source": [
        "class Solution(object):\n",
        "    def kClosest(self, points, K):\n",
        "        \"\"\"\n",
        "        :type points: List[List[int]]\n",
        "        :type K: int\n",
        "        :rtype: List[List[int]]\n",
        "        \"\"\"\n",
        "        points.sort(key = lambda x : x[0]**2 + x[1]**2)\n",
        "        return points[0:K]\n",
        "a = Solution()\n",
        "a.kClosest([[1,3],[-2,2]],3)"
      ],
      "execution_count": 0,
      "outputs": [
        {
          "output_type": "execute_result",
          "data": {
            "text/plain": [
              "[[-2, 2], [1, 3]]"
            ]
          },
          "metadata": {
            "tags": []
          },
          "execution_count": 19
        }
      ]
    },
    {
      "cell_type": "markdown",
      "metadata": {
        "id": "qZFjHP9ELJxQ",
        "colab_type": "text"
      },
      "source": [
        "[K Closest points to Origin](https://leetcode.com/contest/weekly-contest-119/problems/k-closest-points-to-origin/)\n",
        "\n",
        "\n",
        "**lambda** argument: manipulate(argument)\n",
        "\n",
        "**TypeError**: list indices must be integers or slices, not tuple   -------**[ : ]**\n",
        "\n",
        "\n",
        "---\n",
        "\n",
        "2019-01-15 23:51"
      ]
    },
    {
      "cell_type": "code",
      "metadata": {
        "id": "sYiz-cOSDtzD",
        "colab_type": "code",
        "outputId": "47d77cec-97b5-40ef-fb5b-583245b600ae",
        "colab": {
          "base_uri": "https://localhost:8080/",
          "height": 136
        }
      },
      "source": [
        "\n",
        "SIZE = 7\n",
        "array = [[0] * SIZE]\n",
        "for i in range(SIZE - 1):\n",
        "    array += [[0] * SIZE]\n",
        "orient = 0\n",
        "j = 0\n",
        "k = 0\n",
        "for i in range(1, SIZE * SIZE + 1) :\n",
        "    array[j][k] = i\n",
        "    if j + k == SIZE - 1 : # j>k，位于左下角\n",
        "        if j > k :\n",
        "            orient = 1\n",
        "        else :\n",
        "            orinet = 2\n",
        "    elif (k == j) and (k >= SIZE / 2) :\n",
        "        orient = 3\n",
        "    elif (j == k - 1) and (k <= SIZE / 2) :\n",
        "        orient = 0\n",
        "    if orient == 0 :\n",
        "        j += 1 \n",
        "    elif orient == 1:\n",
        "        k += 1\n",
        "    elif orient == 2:\n",
        "        k -= 1\n",
        "    elif orient == 3:\n",
        "        j -= 1\n",
        "for i in range(SIZE) :\n",
        "    for j in range(SIZE) :\n",
        "        print('%02d ' % array[i][j], end = \"\")\n",
        "    print(\"\")"
      ],
      "execution_count": 0,
      "outputs": [
        {
          "output_type": "stream",
          "text": [
            "01 24 23 22 21 20 19 \n",
            "02 25 40 39 38 37 18 \n",
            "03 26 41 48 47 36 17 \n",
            "04 27 42 49 46 35 16 \n",
            "05 28 43 44 45 34 15 \n",
            "06 29 30 31 32 33 14 \n",
            "07 08 09 10 11 12 13 \n"
          ],
          "name": "stdout"
        }
      ]
    },
    {
      "cell_type": "code",
      "metadata": {
        "id": "PiIB-mj3fpGG",
        "colab_type": "code",
        "outputId": "4bb2a44a-51ac-4699-b946-b656f8ded87b",
        "colab": {
          "base_uri": "https://localhost:8080/",
          "height": 136
        }
      },
      "source": [
        "\n",
        "SIZE = 7\n",
        "array = [[0] * SIZE]\n",
        "for i in range(SIZE - 1):\n",
        "    array += [[0] * SIZE]\n",
        "orient = 0\n",
        "j = 0\n",
        "k = 0\n",
        "for i in range(1, SIZE * SIZE + 1) :\n",
        "    array[j][k] = i\n",
        "    if j + k == SIZE - 1 : # j>k，位于左下角\n",
        "        if j > k :\n",
        "            orient = 1 # 位于右上角\n",
        "        else :\n",
        "            orient = 2\n",
        "    elif (k == j) and (k >= SIZE / 2) :\n",
        "        orient = 3\n",
        "    elif (j == k - 1) and (k <= SIZE / 2) :\n",
        "        orient = 0\n",
        "    if orient == 0 :\n",
        "        j += 1\n",
        "    elif orient == 1:\n",
        "        k += 1\n",
        "    elif orient == 2:\n",
        "        k -= 1\n",
        "    elif orient == 3:\n",
        "        j -= 1\n",
        "for i in range(SIZE) :\n",
        "    for j in range(SIZE) :\n",
        "        print('%02d ' % array[i][j], end = \"\")\n",
        "    print(\"\")"
      ],
      "execution_count": 0,
      "outputs": [
        {
          "output_type": "stream",
          "text": [
            "01 24 23 22 21 20 19 \n",
            "02 25 40 39 38 37 18 \n",
            "03 26 41 48 47 36 17 \n",
            "04 27 42 49 46 35 16 \n",
            "05 28 43 44 45 34 15 \n",
            "06 29 30 31 32 33 14 \n",
            "07 08 09 10 11 12 13 \n"
          ],
          "name": "stdout"
        }
      ]
    },
    {
      "cell_type": "code",
      "metadata": {
        "id": "-GbnfI6y-hd9",
        "colab_type": "code",
        "outputId": "12ae14a2-fd52-4b37-ff20-6d6bd4a743b9",
        "colab": {
          "base_uri": "https://localhost:8080/",
          "height": 85
        }
      },
      "source": [
        "def swap(dw):\n",
        "    dw['a'], dw['b'] = dw['b'], dw['a']\n",
        "    print (dw['a'] , dw['b'])\n",
        "    dw = None\n",
        "    print(dw)\n",
        "dw = {'a':6, 'b':9}\n",
        "\n",
        "print(dw['a'], dw['b'])\n",
        "swap(dw)\n",
        "print(dw['a'], dw['b'])"
      ],
      "execution_count": 1,
      "outputs": [
        {
          "output_type": "stream",
          "text": [
            "6 9\n",
            "9 6\n",
            "None\n",
            "9 6\n"
          ],
          "name": "stdout"
        }
      ]
    },
    {
      "cell_type": "code",
      "metadata": {
        "id": "I1SXgD21OiUt",
        "colab_type": "code",
        "colab": {
          "base_uri": "https://localhost:8080/",
          "height": 85
        },
        "outputId": "298faa70-ce3c-4733-9f9b-cc35e7f8eb32"
      },
      "source": [
        "class Bird:\n",
        "    # classmethod修饰的方法是类方法\n",
        "    @classmethod\n",
        "    def fly (cls):\n",
        "        print('类方法fly: ', cls)\n",
        "    # staticmethod修饰的方法是静态方法\n",
        "    @staticmethod\n",
        "    def info (p):\n",
        "        print('静态方法info: ', p)\n",
        "# 调用类方法，Bird类会自动绑定到第一个参数\n",
        "Bird.fly()  #①\n",
        "# 调用静态方法，不会自动绑定，因此程序必须手动绑定第一个参数\n",
        "Bird.info('crazyit')\n",
        "# 创建Bird对象\n",
        "b = Bird()\n",
        "# 使用对象调用fly()类方法，其实依然还是使用类调用，\n",
        "# 因此第一个参数依然被自动绑定到Bird类\n",
        "b.fly()  #②\n",
        "# 使用对象调用info()静态方法，其实依然还是使用类调用，\n",
        "# 因此程序必须为第一个参数执行绑定\n",
        "b.info('fkit')"
      ],
      "execution_count": 3,
      "outputs": [
        {
          "output_type": "stream",
          "text": [
            "类方法fly:  <class '__main__.Bird'>\n",
            "静态方法info:  crazyit\n",
            "类方法fly:  <class '__main__.Bird'>\n",
            "静态方法info:  fkit\n"
          ],
          "name": "stdout"
        }
      ]
    },
    {
      "cell_type": "code",
      "metadata": {
        "id": "WIkXvPFKTAva",
        "colab_type": "code",
        "colab": {
          "base_uri": "https://localhost:8080/",
          "height": 238
        },
        "outputId": "4d0a46ce-2283-4042-8500-b5e11caa621c"
      },
      "source": [
        "def foo(fn):\n",
        "    # 定义一个嵌套函数\n",
        "    def bar(*args):\n",
        "        print(\"===1===\", args)\n",
        "        n = args[0]\n",
        "        print(\"===2===\", n * (n - 1))\n",
        "        # 查看传给foo函数的fn函数\n",
        "        print(fn.__name__)\n",
        "        fn(n * (n - 1))\n",
        "        print(\"*\" * 15)\n",
        "        return fn(n * (n - 1))\n",
        "    return bar\n",
        "'''\n",
        "下面装饰效果相当于：foo(my_test)，\n",
        "my_test将会替换（装饰）成该语句的返回值；\n",
        "由于foo()函数返回bar函数，因此my_test就是bar\n",
        "'''\n",
        "@foo\n",
        "def my_test(a):\n",
        "    print(\"==my_test函数==\", a)\n",
        "# 打印my_test函数，将看到实际上是bar函数\n",
        "print(my_test) # <function foo.<locals>.bar at 0x00000000021FABF8>\n",
        "# 下面代码看上去是调用my_test()，其实是调用bar()函数\n",
        "my_test(10)\n",
        "# print(foo)\n",
        "my_test(6, 5)"
      ],
      "execution_count": 10,
      "outputs": [
        {
          "output_type": "stream",
          "text": [
            "<function foo.<locals>.bar at 0x7f91b6ac57b8>\n",
            "===1=== (10,)\n",
            "===2=== 90\n",
            "my_test\n",
            "==my_test函数== 90\n",
            "***************\n",
            "==my_test函数== 90\n",
            "===1=== (6, 5)\n",
            "===2=== 30\n",
            "my_test\n",
            "==my_test函数== 30\n",
            "***************\n",
            "==my_test函数== 30\n"
          ],
          "name": "stdout"
        }
      ]
    },
    {
      "cell_type": "code",
      "metadata": {
        "id": "YFicZegaTGzD",
        "colab_type": "code",
        "colab": {
          "base_uri": "https://localhost:8080/",
          "height": 51
        },
        "outputId": "1fe89a17-b3be-4f1c-de1b-876677d3f218"
      },
      "source": [
        "global_fn = lambda p: print('执行lambda表达式，p参数: ', p)\n",
        "class Category:\n",
        "    cate_fn = lambda p: print('执行lambda表达式，p参数: ', p)\n",
        "# 调用全局范围内的global_fn，为参数p传入参数值\n",
        "global_fn('fkit')  # ①\n",
        "c = Category()\n",
        "# 调用类命名空间内的cate_fn，Python自动绑定第一个参数\n",
        "c.cate_fn()  # ②"
      ],
      "execution_count": 11,
      "outputs": [
        {
          "output_type": "stream",
          "text": [
            "执行lambda表达式，p参数:  fkit\n",
            "执行lambda表达式，p参数:  <__main__.Category object at 0x7f91b6acba58>\n"
          ],
          "name": "stdout"
        }
      ]
    },
    {
      "cell_type": "code",
      "metadata": {
        "id": "j7mbxf0e1Pmz",
        "colab_type": "code",
        "colab": {
          "base_uri": "https://localhost:8080/",
          "height": 119
        },
        "outputId": "c78041b1-2259-4ecd-f59a-4ece7ff37c74"
      },
      "source": [
        "x = input()\n",
        "print (x)\n",
        "y = input()\n",
        "print (y)\n",
        "print (x+y)\n",
        "print (int(x)*y)"
      ],
      "execution_count": 8,
      "outputs": [
        {
          "output_type": "stream",
          "text": [
            "4\n",
            "4\n",
            "5\n",
            "5\n",
            "45\n",
            "5555\n"
          ],
          "name": "stdout"
        }
      ]
    },
    {
      "cell_type": "code",
      "metadata": {
        "id": "vdRRRz801wHO",
        "colab_type": "code",
        "colab": {
          "base_uri": "https://localhost:8080/",
          "height": 34
        },
        "outputId": "65f28f98-af6f-46e7-ede5-1da47a56f0d6"
      },
      "source": [
        "x='abdcd.cddsc'\n",
        "y=5\n",
        "z='-'\n",
        "x.replace(x[y],z)"
      ],
      "execution_count": 16,
      "outputs": [
        {
          "output_type": "execute_result",
          "data": {
            "text/plain": [
              "'abdcd-cddsc'"
            ]
          },
          "metadata": {
            "tags": []
          },
          "execution_count": 16
        }
      ]
    },
    {
      "cell_type": "code",
      "metadata": {
        "id": "DWXheLGg44-q",
        "colab_type": "code",
        "colab": {
          "base_uri": "https://localhost:8080/",
          "height": 34
        },
        "outputId": "e5c8fe48-10a5-4cb4-a098-20a574b9cb75"
      },
      "source": [
        "#3.1\n",
        "print (\"请输入N个字符串:%s\")"
      ],
      "execution_count": 17,
      "outputs": [
        {
          "output_type": "stream",
          "text": [
            "请输入N个字符串:%s\n"
          ],
          "name": "stdout"
        }
      ]
    },
    {
      "cell_type": "code",
      "metadata": {
        "id": "9z6eZIylU7nY",
        "colab_type": "code",
        "colab": {
          "base_uri": "https://localhost:8080/",
          "height": 68
        },
        "outputId": "2d7cedac-5dc6-4b1c-bf0c-8225bcc6ba10"
      },
      "source": [
        "my_tuple = tuple(input(\"\").split())\n",
        "print(my_tuple)\n",
        "hash(my_tuple)"
      ],
      "execution_count": 20,
      "outputs": [
        {
          "output_type": "stream",
          "text": [
            "iu io ju jo gu s 2\n",
            "('iu', 'io', 'ju', 'jo', 'gu', 's', '2')\n"
          ],
          "name": "stdout"
        },
        {
          "output_type": "execute_result",
          "data": {
            "text/plain": [
              "-7560142083278331317"
            ]
          },
          "metadata": {
            "tags": []
          },
          "execution_count": 20
        }
      ]
    },
    {
      "cell_type": "code",
      "metadata": {
        "id": "OTBYaL6ognXH",
        "colab_type": "code",
        "colab": {
          "base_uri": "https://localhost:8080/",
          "height": 68
        },
        "outputId": "7a781fe9-4f9a-4f79-fa1b-3305fedea504"
      },
      "source": [
        "import random\n",
        "n=int(input('please enter a number:'))\n",
        "list_result=[]\n",
        "for i in range(n):\n",
        "    num=(random.random())\n",
        "    if num%2 == 1:\n",
        "        list_result.append(num)\n",
        "print(list_result)\n",
        "list_2 = []\n",
        "for i in range(n):\n",
        "    num = random.randint(1,200)\n",
        "    if num%2 == 1:\n",
        "        list_2.append(num)\n",
        "    else:\n",
        "        list_2.append(num+1)\n",
        "print(list_2)"
      ],
      "execution_count": 6,
      "outputs": [
        {
          "output_type": "stream",
          "text": [
            "please enter a number:2\n",
            "[]\n",
            "[165, 73]\n"
          ],
          "name": "stdout"
        }
      ]
    },
    {
      "cell_type": "code",
      "metadata": {
        "id": "2YVP7YN-iFwc",
        "colab_type": "code",
        "colab": {
          "base_uri": "https://localhost:8080/",
          "height": 221
        },
        "outputId": "d9c324dd-9c47-4223-9664-32557eec3e41"
      },
      "source": [
        "for i in range(10):\n",
        "    for j in range(i+1):\n",
        "        print(\"%d*%d=%d\" %(j,i,j*i), end=\" \")\n",
        "    print ()\n",
        "print(range(10))\n",
        "x=1\n",
        "print(range(x))"
      ],
      "execution_count": 14,
      "outputs": [
        {
          "output_type": "stream",
          "text": [
            "0*0=0 \n",
            "0*1=0 1*1=1 \n",
            "0*2=0 1*2=2 2*2=4 \n",
            "0*3=0 1*3=3 2*3=6 3*3=9 \n",
            "0*4=0 1*4=4 2*4=8 3*4=12 4*4=16 \n",
            "0*5=0 1*5=5 2*5=10 3*5=15 4*5=20 5*5=25 \n",
            "0*6=0 1*6=6 2*6=12 3*6=18 4*6=24 5*6=30 6*6=36 \n",
            "0*7=0 1*7=7 2*7=14 3*7=21 4*7=28 5*7=35 6*7=42 7*7=49 \n",
            "0*8=0 1*8=8 2*8=16 3*8=24 4*8=32 5*8=40 6*8=48 7*8=56 8*8=64 \n",
            "0*9=0 1*9=9 2*9=18 3*9=27 4*9=36 5*9=45 6*9=54 7*9=63 8*9=72 9*9=81 \n",
            "range(0, 10)\n",
            "range(0, 1)\n"
          ],
          "name": "stdout"
        }
      ]
    },
    {
      "cell_type": "code",
      "metadata": {
        "id": "xdA7TUdXXKXT",
        "colab_type": "code",
        "colab": {
          "base_uri": "https://localhost:8080/",
          "height": 85
        },
        "outputId": "328e3506-9838-43ed-9d74-53b699fd321f"
      },
      "source": [
        "n = 4\n",
        "for i in (range(1,n+1)):\n",
        "    print(\"%s%s\" %(\" \"*(n+1-i),\"*\"*(i*2-1)))"
      ],
      "execution_count": 16,
      "outputs": [
        {
          "output_type": "stream",
          "text": [
            "    *\n",
            "   ***\n",
            "  *****\n",
            " *******\n"
          ],
          "name": "stdout"
        }
      ]
    },
    {
      "cell_type": "code",
      "metadata": {
        "id": "I4TSybx2b1mT",
        "colab_type": "code",
        "colab": {
          "base_uri": "https://localhost:8080/",
          "height": 85
        },
        "outputId": "039d6c09-7d8b-497c-96d6-0f949f6d4e25"
      },
      "source": [
        "size = int(input(\"输入要打印的SIZE(奇数):\"))\n",
        "array = [[0] * size]\n",
        "# 创建一个长度size * size的二维列表\n",
        "for i in range(size - 1):\n",
        "    array += [[0] * size]\n",
        "row, col = 0, size // 2\n",
        "for i in range(1, size * size + 1):\n",
        "    array[row][col] = i\n",
        "    if i % size == 0:\n",
        "        row += 1\n",
        "    elif row == 0:\n",
        "        row = size - 1\n",
        "        col += 1\n",
        "    elif col == size - 1:\n",
        "        row -= 1\n",
        "        col = 0\n",
        "    else:\n",
        "        row -= 1\n",
        "        col += 1\n",
        "for i in range(size):\n",
        "    for j in range(size):\n",
        "        print('%02d' % array[i][j], end=\" \")\n",
        "    print()\n",
        "    "
      ],
      "execution_count": 18,
      "outputs": [
        {
          "output_type": "stream",
          "text": [
            "输入要打印的SIZE(奇数):3\n",
            "08 01 06 \n",
            "03 05 07 \n",
            "04 09 02 \n"
          ],
          "name": "stdout"
        }
      ]
    },
    {
      "cell_type": "code",
      "metadata": {
        "id": "jIoHU87zk_A2",
        "colab_type": "code",
        "colab": {
          "base_uri": "https://localhost:8080/",
          "height": 71
        },
        "outputId": "289d2da6-9d09-4ec8-f873-432809bc2f5b"
      },
      "source": [
        "list_si = []\n",
        "\n",
        "for i in range(101,9001):\n",
        "    is_real = 1\n",
        "    for j in range(2,i):\n",
        "        if i%j == 0:\n",
        "            is_real = 0\n",
        "    if is_real == 1:\n",
        "        list_si.append(i)\n",
        "print(len(list_si))\n",
        "print(list_si)"
      ],
      "execution_count": 20,
      "outputs": [
        {
          "output_type": "stream",
          "text": [
            "1092\n",
            "[101, 103, 107, 109, 113, 127, 131, 137, 139, 149, 151, 157, 163, 167, 173, 179, 181, 191, 193, 197, 199, 211, 223, 227, 229, 233, 239, 241, 251, 257, 263, 269, 271, 277, 281, 283, 293, 307, 311, 313, 317, 331, 337, 347, 349, 353, 359, 367, 373, 379, 383, 389, 397, 401, 409, 419, 421, 431, 433, 439, 443, 449, 457, 461, 463, 467, 479, 487, 491, 499, 503, 509, 521, 523, 541, 547, 557, 563, 569, 571, 577, 587, 593, 599, 601, 607, 613, 617, 619, 631, 641, 643, 647, 653, 659, 661, 673, 677, 683, 691, 701, 709, 719, 727, 733, 739, 743, 751, 757, 761, 769, 773, 787, 797, 809, 811, 821, 823, 827, 829, 839, 853, 857, 859, 863, 877, 881, 883, 887, 907, 911, 919, 929, 937, 941, 947, 953, 967, 971, 977, 983, 991, 997, 1009, 1013, 1019, 1021, 1031, 1033, 1039, 1049, 1051, 1061, 1063, 1069, 1087, 1091, 1093, 1097, 1103, 1109, 1117, 1123, 1129, 1151, 1153, 1163, 1171, 1181, 1187, 1193, 1201, 1213, 1217, 1223, 1229, 1231, 1237, 1249, 1259, 1277, 1279, 1283, 1289, 1291, 1297, 1301, 1303, 1307, 1319, 1321, 1327, 1361, 1367, 1373, 1381, 1399, 1409, 1423, 1427, 1429, 1433, 1439, 1447, 1451, 1453, 1459, 1471, 1481, 1483, 1487, 1489, 1493, 1499, 1511, 1523, 1531, 1543, 1549, 1553, 1559, 1567, 1571, 1579, 1583, 1597, 1601, 1607, 1609, 1613, 1619, 1621, 1627, 1637, 1657, 1663, 1667, 1669, 1693, 1697, 1699, 1709, 1721, 1723, 1733, 1741, 1747, 1753, 1759, 1777, 1783, 1787, 1789, 1801, 1811, 1823, 1831, 1847, 1861, 1867, 1871, 1873, 1877, 1879, 1889, 1901, 1907, 1913, 1931, 1933, 1949, 1951, 1973, 1979, 1987, 1993, 1997, 1999, 2003, 2011, 2017, 2027, 2029, 2039, 2053, 2063, 2069, 2081, 2083, 2087, 2089, 2099, 2111, 2113, 2129, 2131, 2137, 2141, 2143, 2153, 2161, 2179, 2203, 2207, 2213, 2221, 2237, 2239, 2243, 2251, 2267, 2269, 2273, 2281, 2287, 2293, 2297, 2309, 2311, 2333, 2339, 2341, 2347, 2351, 2357, 2371, 2377, 2381, 2383, 2389, 2393, 2399, 2411, 2417, 2423, 2437, 2441, 2447, 2459, 2467, 2473, 2477, 2503, 2521, 2531, 2539, 2543, 2549, 2551, 2557, 2579, 2591, 2593, 2609, 2617, 2621, 2633, 2647, 2657, 2659, 2663, 2671, 2677, 2683, 2687, 2689, 2693, 2699, 2707, 2711, 2713, 2719, 2729, 2731, 2741, 2749, 2753, 2767, 2777, 2789, 2791, 2797, 2801, 2803, 2819, 2833, 2837, 2843, 2851, 2857, 2861, 2879, 2887, 2897, 2903, 2909, 2917, 2927, 2939, 2953, 2957, 2963, 2969, 2971, 2999, 3001, 3011, 3019, 3023, 3037, 3041, 3049, 3061, 3067, 3079, 3083, 3089, 3109, 3119, 3121, 3137, 3163, 3167, 3169, 3181, 3187, 3191, 3203, 3209, 3217, 3221, 3229, 3251, 3253, 3257, 3259, 3271, 3299, 3301, 3307, 3313, 3319, 3323, 3329, 3331, 3343, 3347, 3359, 3361, 3371, 3373, 3389, 3391, 3407, 3413, 3433, 3449, 3457, 3461, 3463, 3467, 3469, 3491, 3499, 3511, 3517, 3527, 3529, 3533, 3539, 3541, 3547, 3557, 3559, 3571, 3581, 3583, 3593, 3607, 3613, 3617, 3623, 3631, 3637, 3643, 3659, 3671, 3673, 3677, 3691, 3697, 3701, 3709, 3719, 3727, 3733, 3739, 3761, 3767, 3769, 3779, 3793, 3797, 3803, 3821, 3823, 3833, 3847, 3851, 3853, 3863, 3877, 3881, 3889, 3907, 3911, 3917, 3919, 3923, 3929, 3931, 3943, 3947, 3967, 3989, 4001, 4003, 4007, 4013, 4019, 4021, 4027, 4049, 4051, 4057, 4073, 4079, 4091, 4093, 4099, 4111, 4127, 4129, 4133, 4139, 4153, 4157, 4159, 4177, 4201, 4211, 4217, 4219, 4229, 4231, 4241, 4243, 4253, 4259, 4261, 4271, 4273, 4283, 4289, 4297, 4327, 4337, 4339, 4349, 4357, 4363, 4373, 4391, 4397, 4409, 4421, 4423, 4441, 4447, 4451, 4457, 4463, 4481, 4483, 4493, 4507, 4513, 4517, 4519, 4523, 4547, 4549, 4561, 4567, 4583, 4591, 4597, 4603, 4621, 4637, 4639, 4643, 4649, 4651, 4657, 4663, 4673, 4679, 4691, 4703, 4721, 4723, 4729, 4733, 4751, 4759, 4783, 4787, 4789, 4793, 4799, 4801, 4813, 4817, 4831, 4861, 4871, 4877, 4889, 4903, 4909, 4919, 4931, 4933, 4937, 4943, 4951, 4957, 4967, 4969, 4973, 4987, 4993, 4999, 5003, 5009, 5011, 5021, 5023, 5039, 5051, 5059, 5077, 5081, 5087, 5099, 5101, 5107, 5113, 5119, 5147, 5153, 5167, 5171, 5179, 5189, 5197, 5209, 5227, 5231, 5233, 5237, 5261, 5273, 5279, 5281, 5297, 5303, 5309, 5323, 5333, 5347, 5351, 5381, 5387, 5393, 5399, 5407, 5413, 5417, 5419, 5431, 5437, 5441, 5443, 5449, 5471, 5477, 5479, 5483, 5501, 5503, 5507, 5519, 5521, 5527, 5531, 5557, 5563, 5569, 5573, 5581, 5591, 5623, 5639, 5641, 5647, 5651, 5653, 5657, 5659, 5669, 5683, 5689, 5693, 5701, 5711, 5717, 5737, 5741, 5743, 5749, 5779, 5783, 5791, 5801, 5807, 5813, 5821, 5827, 5839, 5843, 5849, 5851, 5857, 5861, 5867, 5869, 5879, 5881, 5897, 5903, 5923, 5927, 5939, 5953, 5981, 5987, 6007, 6011, 6029, 6037, 6043, 6047, 6053, 6067, 6073, 6079, 6089, 6091, 6101, 6113, 6121, 6131, 6133, 6143, 6151, 6163, 6173, 6197, 6199, 6203, 6211, 6217, 6221, 6229, 6247, 6257, 6263, 6269, 6271, 6277, 6287, 6299, 6301, 6311, 6317, 6323, 6329, 6337, 6343, 6353, 6359, 6361, 6367, 6373, 6379, 6389, 6397, 6421, 6427, 6449, 6451, 6469, 6473, 6481, 6491, 6521, 6529, 6547, 6551, 6553, 6563, 6569, 6571, 6577, 6581, 6599, 6607, 6619, 6637, 6653, 6659, 6661, 6673, 6679, 6689, 6691, 6701, 6703, 6709, 6719, 6733, 6737, 6761, 6763, 6779, 6781, 6791, 6793, 6803, 6823, 6827, 6829, 6833, 6841, 6857, 6863, 6869, 6871, 6883, 6899, 6907, 6911, 6917, 6947, 6949, 6959, 6961, 6967, 6971, 6977, 6983, 6991, 6997, 7001, 7013, 7019, 7027, 7039, 7043, 7057, 7069, 7079, 7103, 7109, 7121, 7127, 7129, 7151, 7159, 7177, 7187, 7193, 7207, 7211, 7213, 7219, 7229, 7237, 7243, 7247, 7253, 7283, 7297, 7307, 7309, 7321, 7331, 7333, 7349, 7351, 7369, 7393, 7411, 7417, 7433, 7451, 7457, 7459, 7477, 7481, 7487, 7489, 7499, 7507, 7517, 7523, 7529, 7537, 7541, 7547, 7549, 7559, 7561, 7573, 7577, 7583, 7589, 7591, 7603, 7607, 7621, 7639, 7643, 7649, 7669, 7673, 7681, 7687, 7691, 7699, 7703, 7717, 7723, 7727, 7741, 7753, 7757, 7759, 7789, 7793, 7817, 7823, 7829, 7841, 7853, 7867, 7873, 7877, 7879, 7883, 7901, 7907, 7919, 7927, 7933, 7937, 7949, 7951, 7963, 7993, 8009, 8011, 8017, 8039, 8053, 8059, 8069, 8081, 8087, 8089, 8093, 8101, 8111, 8117, 8123, 8147, 8161, 8167, 8171, 8179, 8191, 8209, 8219, 8221, 8231, 8233, 8237, 8243, 8263, 8269, 8273, 8287, 8291, 8293, 8297, 8311, 8317, 8329, 8353, 8363, 8369, 8377, 8387, 8389, 8419, 8423, 8429, 8431, 8443, 8447, 8461, 8467, 8501, 8513, 8521, 8527, 8537, 8539, 8543, 8563, 8573, 8581, 8597, 8599, 8609, 8623, 8627, 8629, 8641, 8647, 8663, 8669, 8677, 8681, 8689, 8693, 8699, 8707, 8713, 8719, 8731, 8737, 8741, 8747, 8753, 8761, 8779, 8783, 8803, 8807, 8819, 8821, 8831, 8837, 8839, 8849, 8861, 8863, 8867, 8887, 8893, 8923, 8929, 8933, 8941, 8951, 8963, 8969, 8971, 8999]\n"
          ],
          "name": "stdout"
        }
      ]
    },
    {
      "cell_type": "code",
      "metadata": {
        "id": "tG9ULlXbOHDJ",
        "colab_type": "code",
        "colab": {
          "base_uri": "https://localhost:8080/",
          "height": 34
        },
        "outputId": "c8138b17-f363-4705-c3ad-02e570d3e5b4"
      },
      "source": [
        "6%3"
      ],
      "execution_count": 6,
      "outputs": [
        {
          "output_type": "execute_result",
          "data": {
            "text/plain": [
              "0"
            ]
          },
          "metadata": {
            "tags": []
          },
          "execution_count": 6
        }
      ]
    },
    {
      "cell_type": "code",
      "metadata": {
        "id": "iezocGz1PZel",
        "colab_type": "code",
        "colab": {
          "base_uri": "https://localhost:8080/",
          "height": 34
        },
        "outputId": "1d1c598b-3f99-4df9-f404-f42ce6a2db26"
      },
      "source": [
        "def linear_sort(list):\n",
        "    list_len = len(list)\n",
        "    for i in range(list_len):\n",
        "        for j in range(i+1,list_len):\n",
        "            if list[i]>list[j]:\n",
        "                list[i],list[j] = list[j],list[i]\n",
        "    return list\n",
        "list_1 = [2,3,4.5,6,1,4]\n",
        "linear_sort(list_1)\n",
        "print(list_1)     "
      ],
      "execution_count": 3,
      "outputs": [
        {
          "output_type": "stream",
          "text": [
            "[1, 2, 3, 4, 4.5, 6]\n"
          ],
          "name": "stdout"
        }
      ]
    },
    {
      "cell_type": "code",
      "metadata": {
        "id": "wptUlIz8Z1zF",
        "colab_type": "code",
        "colab": {}
      },
      "source": [
        ""
      ],
      "execution_count": 0,
      "outputs": []
    }
  ]
}