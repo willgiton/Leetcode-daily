{
  "nbformat": 4,
  "nbformat_minor": 0,
  "metadata": {
    "colab": {
      "name": "数据结构+算法.ipynb",
      "version": "0.3.2",
      "provenance": [],
      "collapsed_sections": [],
      "include_colab_link": true
    },
    "kernelspec": {
      "name": "python3",
      "display_name": "Python 3"
    }
  },
  "cells": [
    {
      "cell_type": "markdown",
      "metadata": {
        "id": "view-in-github",
        "colab_type": "text"
      },
      "source": [
        "<a href=\"https://colab.research.google.com/github/willgiton/Leetcode-daily/blob/master/%E6%95%B0%E6%8D%AE%E7%BB%93%E6%9E%84%2B%E7%AE%97%E6%B3%95.ipynb\" target=\"_parent\"><img src=\"https://colab.research.google.com/assets/colab-badge.svg\" alt=\"Open In Colab\"/></a>"
      ]
    },
    {
      "cell_type": "markdown",
      "metadata": {
        "id": "-j74dQ6MoPxh",
        "colab_type": "text"
      },
      "source": [
        "# 数据结构\n",
        "## 数组\n",
        "## 字符串\n",
        "## 链表\n",
        "## 树\n",
        "## 图\n",
        "## 哈希\n",
        "## 堆栈和队列\n",
        "# 算法和数据操作\n",
        "## 查找\n",
        "## 排序\n",
        "## 递归\n",
        "## 循环\n",
        "## 位运算\n",
        "\n",
        "\n"
      ]
    },
    {
      "cell_type": "markdown",
      "metadata": {
        "id": "mN1kreabmp4H",
        "colab_type": "text"
      },
      "source": [
        "Array_leetcode: Find Pivot Index"
      ]
    },
    {
      "cell_type": "code",
      "metadata": {
        "id": "rtReDn995Kmu",
        "colab_type": "code",
        "outputId": "44ff98d5-0330-4c6b-ea30-ff1571cc0efa",
        "colab": {
          "base_uri": "https://localhost:8080/",
          "height": 34
        }
      },
      "source": [
        "class solution():\n",
        "  def pivotIndex(self,nums):\n",
        "    left, right = 0, sum(nums)\n",
        "    for index, num in enumerate(nums):\n",
        "      right -= num\n",
        "      if left == right:\n",
        "        return index\n",
        "      left += num\n",
        "    return -1\n",
        "a=solution()\n",
        "a.pivotIndex([1, 7, 3, 6, 5, 6])"
      ],
      "execution_count": 0,
      "outputs": [
        {
          "output_type": "execute_result",
          "data": {
            "text/plain": [
              "3"
            ]
          },
          "metadata": {
            "tags": []
          },
          "execution_count": 10
        }
      ]
    },
    {
      "cell_type": "markdown",
      "metadata": {
        "id": "SPgtQs_DrP7h",
        "colab_type": "text"
      },
      "source": [
        "Array_leetcode: Largest Number At Least Twice of Others"
      ]
    },
    {
      "cell_type": "code",
      "metadata": {
        "id": "7nnK2jGM5K9e",
        "colab_type": "code",
        "outputId": "15eddb8d-30a7-43d9-9e81-e3f6977edf6c",
        "colab": {
          "base_uri": "https://localhost:8080/",
          "height": 34
        }
      },
      "source": [
        "class solution():\n",
        "    def dominantIndex(self, nums):\n",
        "    largest_n = -1\n",
        "    second_n = -1\n",
        "    d_index = -1\n",
        "    for index, num in enumerate(nums):\n",
        "        if num >= largest_n:\n",
        "            second_n = largest_n\n",
        "            largest_n = num\n",
        "            d_index = index\n",
        "        elif num > second_n:\n",
        "            second_n = num\n",
        "    if largest_n < 2*second_n:\n",
        "        d_index = -1\n",
        "    return d_index\n",
        "a=solution()\n",
        "a.dominantIndex([1,3,5,11])"
      ],
      "execution_count": 0,
      "outputs": [
        {
          "output_type": "execute_result",
          "data": {
            "text/plain": [
              "3"
            ]
          },
          "metadata": {
            "tags": []
          },
          "execution_count": 19
        }
      ]
    },
    {
      "cell_type": "markdown",
      "metadata": {
        "id": "5cBGxubnwF2J",
        "colab_type": "text"
      },
      "source": [
        "Array_leetcode: Plus One"
      ]
    },
    {
      "cell_type": "code",
      "metadata": {
        "id": "-FOVFLQttwKP",
        "colab_type": "code",
        "outputId": "8e92697b-892f-45d4-c782-1a16b5053334",
        "colab": {
          "base_uri": "https://localhost:8080/",
          "height": 34
        }
      },
      "source": [
        "class solution():\n",
        "    def plus_one(self, nums):\n",
        "        nums = int(\"\".join(map(str, nums))) + 1\n",
        "    return [int(i) for i in str(nums)]\n",
        "a=solution()\n",
        "a.plus_one([99])"
      ],
      "execution_count": 0,
      "outputs": [
        {
          "output_type": "execute_result",
          "data": {
            "text/plain": [
              "[1, 0, 0]"
            ]
          },
          "metadata": {
            "tags": []
          },
          "execution_count": 18
        }
      ]
    },
    {
      "cell_type": "markdown",
      "metadata": {
        "id": "TIFY1X7kRa7A",
        "colab_type": "text"
      },
      "source": [
        "Array_leetcode : Diagonal Traverse"
      ]
    },
    {
      "cell_type": "code",
      "metadata": {
        "id": "JtS5MLlYxD1H",
        "colab_type": "code",
        "outputId": "401ab098-bbe2-40dc-a998-45e43cd46c0b",
        "colab": {
          "base_uri": "https://localhost:8080/",
          "height": 34
        }
      },
      "source": [
        "import pdb\n",
        "#pdb.set_trace()\n",
        "class solution():\n",
        "    def diagonal_order(self, matrix):\n",
        "        m, n = len(matrix), len(matrix[0])\n",
        "    return [matrix[i][d-i]\n",
        "            for d in range(m+n-1)\n",
        "            for i in range(max(0, d-n+1), min(d+1, m))[::d%2*2-1]]\n",
        "diagonal = solution()\n",
        "diagonal.diagonal_order([[1,2,3],[4,5,6],[7,8,9]])\n"
      ],
      "execution_count": 0,
      "outputs": [
        {
          "output_type": "execute_result",
          "data": {
            "text/plain": [
              "[1, 2, 4, 7, 5, 3, 6, 8, 9]"
            ]
          },
          "metadata": {
            "tags": []
          },
          "execution_count": 31
        }
      ]
    },
    {
      "cell_type": "markdown",
      "metadata": {
        "id": "tHIQnboPtilY",
        "colab_type": "text"
      },
      "source": [
        "Array_leetcode: Spiral Matrix"
      ]
    },
    {
      "cell_type": "code",
      "metadata": {
        "id": "yLvAzZ-8g3gS",
        "colab_type": "code",
        "outputId": "0a243c67-f180-4f62-ad77-c513b481c315",
        "colab": {
          "base_uri": "https://localhost:8080/",
          "height": 34
        }
      },
      "source": [
        "import pdb\n",
        "#pdb.set_trace()\n",
        "def spiralOrder(matrix):\n",
        "    return matrix and [*matrix.pop(0)] + spiralOrder([*zip(*matrix)][::-1])\n",
        "spiralOrder([[1,2,4],\n",
        "             [5,6,7],\n",
        "             [8,0,2]])"
      ],
      "execution_count": 0,
      "outputs": [
        {
          "output_type": "execute_result",
          "data": {
            "text/plain": [
              "[1, 2, 4, 7, 2, 0, 8, 5, 6]"
            ]
          },
          "metadata": {
            "tags": []
          },
          "execution_count": 51
        }
      ]
    },
    {
      "cell_type": "code",
      "metadata": {
        "id": "Agq1PZr_uU6G",
        "colab_type": "code",
        "outputId": "36425a4a-5873-4cf9-9adb-a74056feec72",
        "colab": {
          "base_uri": "https://localhost:8080/",
          "height": 136
        }
      },
      "source": [
        "matrix = [[1,2,4],\n",
        "             [5,6,7],\n",
        "             [8,0,2]]\n",
        "print(matrix and matrix.pop(0))\n",
        "print(matrix)\n",
        "print(type(matrix))\n",
        "#print(list(*matrix))\n",
        "print(*matrix)\n",
        "print([*zip(matrix)])\n",
        "print([*zip(*matrix)][::-1])\n",
        "list(range(1,0))\n",
        "list(range(1,1))"
      ],
      "execution_count": 0,
      "outputs": [
        {
          "output_type": "stream",
          "text": [
            "[1, 2, 4]\n",
            "[[5, 6, 7], [8, 0, 2]]\n",
            "<class 'list'>\n",
            "[5, 6, 7] [8, 0, 2]\n",
            "[([5, 6, 7],), ([8, 0, 2],)]\n",
            "[(7, 2), (6, 0), (5, 8)]\n"
          ],
          "name": "stdout"
        },
        {
          "output_type": "execute_result",
          "data": {
            "text/plain": [
              "[]"
            ]
          },
          "metadata": {
            "tags": []
          },
          "execution_count": 74
        }
      ]
    },
    {
      "cell_type": "markdown",
      "metadata": {
        "id": "Qc4cNMZd69IC",
        "colab_type": "text"
      },
      "source": [
        "Array_leetcode: Pascal's Triangle"
      ]
    },
    {
      "cell_type": "code",
      "metadata": {
        "id": "6HyArZIRwk2t",
        "colab_type": "code",
        "outputId": "24aa8fe1-704c-4773-cb60-16beb84b5b0b",
        "colab": {
          "base_uri": "https://localhost:8080/",
          "height": 34
        }
      },
      "source": [
        "def generate(numRows):\n",
        "    pascal = [[1]*(i+1) for i in range(numRows)]\n",
        "    for i in range(numRows):\n",
        "        for j in range(1, i):\n",
        "            pascal[i][j] = pascal[i-1][j-1] + pascal[i-1][j]\n",
        "    return pascal\n",
        "generate(6)"
      ],
      "execution_count": 0,
      "outputs": [
        {
          "output_type": "execute_result",
          "data": {
            "text/plain": [
              "[[1], [1, 1], [1, 2, 1], [1, 3, 3, 1], [1, 4, 6, 4, 1], [1, 5, 10, 10, 5, 1]]"
            ]
          },
          "metadata": {
            "tags": []
          },
          "execution_count": 10
        }
      ]
    },
    {
      "cell_type": "code",
      "metadata": {
        "id": "t7g6q4qA8uag",
        "colab_type": "code",
        "outputId": "19821005-abc5-4ba8-9b28-ca1b3aa1377e",
        "colab": {
          "base_uri": "https://localhost:8080/",
          "height": 34
        }
      },
      "source": [
        "pascal = [[1]*(i+1) for i in range(5)]\n",
        "pascal\n"
      ],
      "execution_count": 0,
      "outputs": [
        {
          "output_type": "execute_result",
          "data": {
            "text/plain": [
              "[[1], [1, 1], [1, 1, 1], [1, 1, 1, 1], [1, 1, 1, 1, 1]]"
            ]
          },
          "metadata": {
            "tags": []
          },
          "execution_count": 76
        }
      ]
    },
    {
      "cell_type": "markdown",
      "metadata": {
        "id": "iAKriT7r4e9T",
        "colab_type": "text"
      },
      "source": [
        "String_leetcode: Add Binary"
      ]
    },
    {
      "cell_type": "code",
      "metadata": {
        "id": "_pCz6SXz825g",
        "colab_type": "code",
        "outputId": "5b35c837-d8ee-4120-ed30-ce591ca64381",
        "colab": {
          "base_uri": "https://localhost:8080/",
          "height": 134
        }
      },
      "source": [
        "a = '11'\n",
        "b = '1'\n",
        "c='0b'+a\n",
        "eval(c)\n",
        "def add_binary(a:str, b:str) ->str:\n",
        "    #return f\"{int(a,2)+int(b,2):b}\"\n",
        "    return (bin(eval('0b'+a))[2:0])\n",
        "add_binary('10', '1')\n",
        "int('11',2):b"
      ],
      "execution_count": 0,
      "outputs": [
        {
          "output_type": "error",
          "ename": "SyntaxError",
          "evalue": "ignored",
          "traceback": [
            "\u001b[0;36m  File \u001b[0;32m\"<ipython-input-15-e15e411bde5d>\"\u001b[0;36m, line \u001b[0;32m8\u001b[0m\n\u001b[0;31m    int('11',2):b\u001b[0m\n\u001b[0m                 ^\u001b[0m\n\u001b[0;31mSyntaxError\u001b[0m\u001b[0;31m:\u001b[0m illegal target for annotation\n"
          ]
        }
      ]
    },
    {
      "cell_type": "markdown",
      "metadata": {
        "id": "-DqXK8gDlMXB",
        "colab_type": "text"
      },
      "source": [
        "String_leetcode: implement strStr"
      ]
    },
    {
      "cell_type": "code",
      "metadata": {
        "id": "_oI11HuK52X2",
        "colab_type": "code",
        "outputId": "d014508c-249f-4123-c084-e306ed83905c",
        "colab": {
          "base_uri": "https://localhost:8080/",
          "height": 119
        }
      },
      "source": [
        "import pdb\n",
        "pdb.set_trace()\n",
        "def find_needle(haystack: str, needle: str) -> int:\n",
        "    for i in range(len(haystack)-len(needle)+1):\n",
        "        if haystack[i:i+len(needle)] == needle:\n",
        "            print(i)\n",
        "            return i\n",
        "    return\n",
        "'''  \n",
        "    for i in range(len(haystack) - len(needle)+1):\n",
        "        if haystack[i:i+len(needle)] == needle:\n",
        "            return i\n",
        "    return -1\n",
        "'''\n",
        "find_needle('needle','ee')"
      ],
      "execution_count": 0,
      "outputs": [
        {
          "output_type": "stream",
          "text": [
            "--Return--\n",
            "> <ipython-input-27-d8c9d4d1c0ab>(2)<module>()->None\n",
            "-> pdb.set_trace()\n",
            "(Pdb) c\n",
            "1\n"
          ],
          "name": "stdout"
        },
        {
          "output_type": "execute_result",
          "data": {
            "text/plain": [
              "1"
            ]
          },
          "metadata": {
            "tags": []
          },
          "execution_count": 27
        }
      ]
    },
    {
      "cell_type": "code",
      "metadata": {
        "id": "vJ5gvSaDmwym",
        "colab_type": "code",
        "outputId": "c7c72ba8-b800-4317-9c37-62f20ff45066",
        "colab": {
          "base_uri": "https://localhost:8080/",
          "height": 34
        }
      },
      "source": [
        "max(\"flood\", \"flower\", \"flowers\", \"food\")\n",
        "min(\"flood\", \"flower\", \"flowers\", \"food\")\n",
        "max([\"flood\", \"flower\", \"flowers\", \"food\"])"
      ],
      "execution_count": 0,
      "outputs": [
        {
          "output_type": "execute_result",
          "data": {
            "text/plain": [
              "'food'"
            ]
          },
          "metadata": {
            "tags": []
          },
          "execution_count": 44
        }
      ]
    },
    {
      "cell_type": "markdown",
      "metadata": {
        "id": "Yo3hlQBgv4fz",
        "colab_type": "text"
      },
      "source": [
        "String_leetcode: CommonPrefix\n"
      ]
    },
    {
      "cell_type": "code",
      "metadata": {
        "id": "YmAjm-O6sLI5",
        "colab_type": "code",
        "outputId": "cd962965-4392-4c96-a830-a0531db51fe8",
        "colab": {
          "base_uri": "https://localhost:8080/",
          "height": 34
        }
      },
      "source": [
        "def commonPrefix(strs:list()) -> str:\n",
        "    if not strs :\n",
        "        return \"\"\n",
        "    mins = min(strs)\n",
        "    maxs = max(strs)\n",
        "    for i, s in enumerate(mins):\n",
        "        if maxs[i] != s:\n",
        "            return mins[:i]\n",
        "    return mins\n",
        "commonPrefix([\"flood\", \"flower\", \"flowers\", \"food\"])"
      ],
      "execution_count": 0,
      "outputs": [
        {
          "output_type": "execute_result",
          "data": {
            "text/plain": [
              "'f'"
            ]
          },
          "metadata": {
            "tags": []
          },
          "execution_count": 43
        }
      ]
    },
    {
      "cell_type": "code",
      "metadata": {
        "id": "bcqDTcB9tVOD",
        "colab_type": "code",
        "outputId": "c2a11597-c593-4211-f50c-3b1e39e3607a",
        "colab": {
          "base_uri": "https://localhost:8080/",
          "height": 34
        }
      },
      "source": [
        "import os\n",
        "os.path.commonprefix([\"flood\", \"flower\", \"flowers\", \"food\"])"
      ],
      "execution_count": 0,
      "outputs": [
        {
          "output_type": "execute_result",
          "data": {
            "text/plain": [
              "'f'"
            ]
          },
          "metadata": {
            "tags": []
          },
          "execution_count": 46
        }
      ]
    },
    {
      "cell_type": "code",
      "metadata": {
        "id": "mRBzz8MB2kAe",
        "colab_type": "code",
        "outputId": "66514316-ef0e-41a7-9961-ddb7b8c36676",
        "colab": {
          "base_uri": "https://localhost:8080/",
          "height": 34
        }
      },
      "source": [
        "s = [\"flood\", \"flower\", \"flowers\", \"food\"]\n",
        "s = s[::-1]\n",
        "s"
      ],
      "execution_count": 0,
      "outputs": [
        {
          "output_type": "execute_result",
          "data": {
            "text/plain": [
              "['food', 'flowers', 'flower', 'flood']"
            ]
          },
          "metadata": {
            "tags": []
          },
          "execution_count": 52
        }
      ]
    },
    {
      "cell_type": "code",
      "metadata": {
        "id": "5nJQ7pFw4lYg",
        "colab_type": "code",
        "outputId": "2043386c-2120-453d-e495-a020982e6807",
        "colab": {
          "base_uri": "https://localhost:8080/",
          "height": 34
        }
      },
      "source": [
        "class Solution():\n",
        "    def reverseString(self, s:list()) -> None:\n",
        "        \"\"\"\n",
        "        Do not return anything, modify s in-place instead.\n",
        "        \"\"\"\n",
        "        s = s[::-1]\n",
        "        return s\n",
        "a = Solution()\n",
        "a.reverseString([\"flood\", \"flower\", \"flowers\", \"food\"])"
      ],
      "execution_count": 0,
      "outputs": [
        {
          "output_type": "execute_result",
          "data": {
            "text/plain": [
              "['food', 'flowers', 'flower', 'flood']"
            ]
          },
          "metadata": {
            "tags": []
          },
          "execution_count": 58
        }
      ]
    },
    {
      "cell_type": "markdown",
      "metadata": {
        "id": "zeqJVJ0BEA7H",
        "colab_type": "text"
      },
      "source": [
        "String_leetcode:Two Sum 2"
      ]
    },
    {
      "cell_type": "code",
      "metadata": {
        "id": "yfaksZw87Dla",
        "colab_type": "code",
        "outputId": "b464a1d2-4570-43dc-f416-7cf1b5271870",
        "colab": {
          "base_uri": "https://localhost:8080/",
          "height": 34
        }
      },
      "source": [
        "def twoSum(number, target):\n",
        "    fundict = {}\n",
        "    for i, num in enumerate(number):\n",
        "        if num in fundict:\n",
        "            return fundict[num]+1, i+1\n",
        "        fundict[target-num] = i\n",
        "twoSum([0,0,0,0,9999,4,5], 9)"
      ],
      "execution_count": 0,
      "outputs": [
        {
          "output_type": "execute_result",
          "data": {
            "text/plain": [
              "(6, 7)"
            ]
          },
          "metadata": {
            "tags": []
          },
          "execution_count": 59
        }
      ]
    },
    {
      "cell_type": "markdown",
      "metadata": {
        "id": "hVqIpQ6bupGL",
        "colab_type": "text"
      },
      "source": [
        "String_leetcode: Max Consecutive Ones"
      ]
    },
    {
      "cell_type": "code",
      "metadata": {
        "id": "cIBeGXWgFMQa",
        "colab_type": "code",
        "colab": {}
      },
      "source": [
        "class Solution:\n",
        "    def findMaxConsecutiveOnes(self, nums: List[int]) -> int:\n",
        "        longest = 0\n",
        "        temp = 0\n",
        "        for i in nums:\n",
        "            if i == 1:\n",
        "                temp += 1\n",
        "            else:\n",
        "                longet = max(longest, temp)\n",
        "                temp = 0\n",
        "           # if longest < temp:\n",
        "           #    longest = temp\n",
        "        return longest"
      ],
      "execution_count": 0,
      "outputs": []
    },
    {
      "cell_type": "markdown",
      "metadata": {
        "id": "8Qv0_h63Fb_T",
        "colab_type": "text"
      },
      "source": [
        "String_leetcode: Minimum Size Subarray Sum"
      ]
    },
    {
      "cell_type": "code",
      "metadata": {
        "id": "oNpuNo6aFjwe",
        "colab_type": "code",
        "colab": {}
      },
      "source": [
        "def subarray(s, nums):\n",
        "    sums = [0]\n",
        "    ss = 0 \n",
        "    for i in nums:\n",
        "        ss += i\n",
        "        sums[i] = ss\n",
        "    ans = []\n",
        "    for i in range(len(nums)):     #sums\n",
        "        left = i\n",
        "        right = len(nums)-1\n",
        "        while right >= left:\n",
        "            mid = (right + left)//2 # -\n",
        "            if sums[mid+1]-sums[left]>=s:\n",
        "                ans.append(mid-left) #+1\n",
        "                right = mid-1      #-1\n",
        "            else:\n",
        "                left = mid+1       #+1\n",
        "    return min(ans)+1\n",
        "    \n",
        "        \"\"\"\n",
        "        sums=[0]\n",
        "        ss=0\n",
        "        for i in nums:\n",
        "            ss+=i\n",
        "            sums.append(ss)\n",
        "        ans=[]    \n",
        "        for i in range(len(nums)):\n",
        "            left=i\n",
        "            right=len(nums)-1\n",
        "            while left<=right:\n",
        "                mid=(left+right)//2\n",
        "                if sums[mid+1]-sums[i]>=s:\n",
        "                    ans.append(mid-i)\n",
        "                    right=mid-1\n",
        "                else:\n",
        "                    left=mid+1\n",
        "        try:\n",
        "            return min(ans)+1\n",
        "        except:\n",
        "            return 0\n",
        "        ”“”"
      ],
      "execution_count": 0,
      "outputs": []
    },
    {
      "cell_type": "markdown",
      "metadata": {
        "id": "gfucXRYJUpp5",
        "colab_type": "text"
      },
      "source": [
        "Linked List_leetcode:Design Linked List"
      ]
    },
    {
      "cell_type": "code",
      "metadata": {
        "id": "6XoCCICX8zpq",
        "colab_type": "code",
        "colab": {}
      },
      "source": [
        "class Node:\n",
        "    def __init__(self, val):\n",
        "        self.val = val\n",
        "        self.next = None\n",
        "        \n",
        "class MyLinkedList:\n",
        "\n",
        "    def __init__(self):\n",
        "        \"\"\"\n",
        "        Initialize your data structure here.\n",
        "        \"\"\"\n",
        "        self.head = None\n",
        "        self.size = 0\n",
        "\n",
        "    def get(self, index: int) -> int:\n",
        "        \"\"\"\n",
        "        Get the value of the index-th node in the linked list. If the index is invalid, return -1.\n",
        "        \"\"\"\n",
        "        if index < 0 or index >= self.size:\n",
        "            return -1\n",
        "        \n",
        "        if self.head is None:\n",
        "            return -1\n",
        "        curr = self.head\n",
        "        for i in range(index):\n",
        "            curr = curr.next\n",
        "        return curr.val\n",
        "\n",
        "    def addAtHead(self, val: int) -> None:\n",
        "        \"\"\"\n",
        "        Add a node of value val before the first element of the linked list. After the insertion, the new node will be the first node of the linked list.\n",
        "        \"\"\"\n",
        "        node = Node(val)\n",
        "        node.next = self.head\n",
        "        self.head = node\n",
        "        \n",
        "        self.size += 1\n",
        "\n",
        "    def addAtTail(self, val: int) -> None:\n",
        "        \"\"\"\n",
        "        Append a node of value val to the last element of the linked list.\n",
        "        \"\"\"\n",
        "        curr = self.head\n",
        "        if curr is None:\n",
        "            self.head = Node(val)\n",
        "        else:\n",
        "            while curr.next is not None:\n",
        "                curr = curr.next\n",
        "            curr.next = Node(val)\n",
        "        \n",
        "        self.size += 1\n",
        "        \n",
        "\n",
        "    def addAtIndex(self, index: int, val: int) -> None:\n",
        "        \"\"\"\n",
        "        Add a node of value val before the index-th node in the linked list. If index equals to the length of linked list, the node will be appended to the end of linked list. If index is greater than the length, the node will not be inserted.\n",
        "        \"\"\"\n",
        "        if index < 0 or index > self.size:\n",
        "            return\n",
        "        if index == 0:\n",
        "            self.addAtHead(val)\n",
        "        else:\n",
        "            curr = self.head\n",
        "            for i in range(index -1):\n",
        "                curr = curr.next\n",
        "            node = Node(val)\n",
        "            node.next = curr.next\n",
        "            curr.next = node\n",
        "        \n",
        "        self.size += 1\n",
        "\n",
        "    def deleteAtIndex(self, index: int) -> None:\n",
        "        \"\"\"\n",
        "        Delete the index-th node in the linked list, if the index is valid.\n",
        "        \"\"\"\n",
        "        if index < 0 or index > self.size:\n",
        "            return\n",
        "        if index == 0:\n",
        "            self.head = self.next\n",
        "        else:\n",
        "            for i in range(index -1):\n",
        "                curr = curr.next\n",
        "            curr.next = curr.next.next\n",
        "        \n",
        "        self.size -= 1\n",
        "            \n",
        "\n",
        "# Your MyLinkedList object will be instantiated and called as such:\n",
        "# obj = MyLinkedList()\n",
        "# param_1 = obj.get(index)\n",
        "# obj.addAtHead(val)\n",
        "# obj.addAtTail(val)\n",
        "# obj.addAtIndex(index,val)\n",
        "# obj.deleteAtIndex(index)"
      ],
      "execution_count": 0,
      "outputs": []
    },
    {
      "cell_type": "markdown",
      "metadata": {
        "id": "KJNkxYBDCwt6",
        "colab_type": "text"
      },
      "source": [
        "Linked List_Leetcode: Linked list cycle"
      ]
    },
    {
      "cell_type": "code",
      "metadata": {
        "id": "RvuNZ8ERWHGq",
        "colab_type": "code",
        "colab": {}
      },
      "source": [
        "def hasCycle(self, head):\n",
        "    try:\n",
        "        slow = head\n",
        "        fast = head.next\n",
        "        while slow is not fast:\n",
        "            slow = slow.next\n",
        "            fast = fast.next.next\n",
        "        return True\n",
        "    except:\n",
        "        return False"
      ],
      "execution_count": 0,
      "outputs": []
    },
    {
      "cell_type": "code",
      "metadata": {
        "id": "sUCpfzd0C4qJ",
        "colab_type": "code",
        "colab": {}
      },
      "source": [
        ""
      ],
      "execution_count": 0,
      "outputs": []
    }
  ]
}